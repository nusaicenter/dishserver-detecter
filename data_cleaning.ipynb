{
 "cells": [
  {
   "cell_type": "code",
   "execution_count": 149,
   "metadata": {},
   "outputs": [],
   "source": [
    "import os\n",
    "import PIL\n",
    "import shutil\n",
    "from tqdm import tqdm\n",
    "from pathlib import Path\n"
   ]
  },
  {
   "cell_type": "markdown",
   "metadata": {},
   "source": [
    "### 画框图替换为原图\n",
    "- 背景：yolo detect.py --save-txt 输出的结果为yolo格式的label txt文件，和已经draw box的图片\n",
    "- 文件夹格式：根文件夹 -- 子文件夹 -- 图片.jpg + label.txt + classes.txt\n",
    "- 目的：将draw box的图片替换为同名原图"
   ]
  },
  {
   "cell_type": "code",
   "execution_count": 169,
   "metadata": {},
   "outputs": [
    {
     "name": "stderr",
     "output_type": "stream",
     "text": [
      "100%|██████████| 40/40 [00:20<00:00,  2.00it/s]\n"
     ]
    }
   ],
   "source": [
    "# check each image file match\n",
    "# and save their path as src/dst list\n",
    "\n",
    "src_folder = '/Users/jiahua/Downloads/moving_det_cv/collect2_data/capture'\n",
    "# dst_folder = '/Users/jiahua/Downloads/moving_det_cv/collect2_data/prelabel'\n",
    "dst_folder = '/Users/jiahua/Downloads/moving_det_cv/collect2_data/capture_labelled'\n",
    "\n",
    "# src_img_list = []\n",
    "dst_folder_list = [\n",
    "    f for f in os.listdir(dst_folder)\n",
    "    if os.path.isdir(os.path.join(dst_folder, f))\n",
    "]\n",
    "\n",
    "for f in tqdm(dst_folder_list):\n",
    "    # src_img_list = [os.path.join(src_folder, file) for file in src_img_list]\n",
    "    # dst_img_list = [os.path.join(dst_folder, file) for file in dst_img_list]\n",
    "    dst_f = os.path.join(dst_folder, f)\n",
    "    dst_img_list = [file for file in os.listdir(dst_f) if file.endswith('.jpg')]\n",
    "\n",
    "    src_f = os.path.join(src_folder, f)\n",
    "    src_img_list = [file for file in os.listdir(src_f) if file.endswith('.jpg')]\n",
    "\n",
    "\n",
    "    # check each image file match\n",
    "    # for name in src_img_list:\n",
    "    #     assert name in dst_img_list, f'{name} not in dst folder'\n",
    "    for name in dst_img_list:\n",
    "        assert name in src_img_list, f'{name} not in src folder'\n",
    "\n",
    "    # replace\n",
    "\n",
    "\n",
    "    for name in dst_img_list:\n",
    "        try:\n",
    "            shutil.copyfile(os.path.join(src_f, name),\n",
    "                            os.path.join(dst_f, name))\n",
    "        except shutil.SameFileError:\n",
    "            pass\n"
   ]
  },
  {
   "cell_type": "code",
   "execution_count": 146,
   "metadata": {},
   "outputs": [
    {
     "data": {
      "text/plain": [
       "'/Users/jiahua/Downloads/moving_det_cv/collect2_data/prelabel/IPS_2022-03-26.21.11.07.9470'"
      ]
     },
     "execution_count": 146,
     "metadata": {},
     "output_type": "execute_result"
    }
   ],
   "source": [
    "os.path.join(src_folder, f)\n"
   ]
  },
  {
   "cell_type": "markdown",
   "metadata": {},
   "source": [
    "### 删除多余标注文件\n",
    "从视频中截的图片的标注结果，很多张有重叠的菜品。人工预标注过程中，会删除一部分图片，保留菜品多的图。从而剩下部分图片已经删除但对应标签没删除。下面脚本会删除这些标签文件。\n",
    "\n",
    "文件夹中包含多个txt jpg文件，通过文件名前缀对应。\n",
    "\n",
    "程序输入为文件夹路径，然后遍历所有txt jpg文件，筛选出没有对应jpg的txt文件，并删除。"
   ]
  },
  {
   "cell_type": "code",
   "execution_count": 58,
   "metadata": {},
   "outputs": [],
   "source": [
    "import os\n",
    "from pathlib import Path\n",
    "\n",
    "path = '/Users/jiahua/Downloads/moving_det_cv/collect2_data/prelabel/001'\n",
    "\n",
    "imglist = []\n",
    "labellist = []\n",
    "for filename in os.listdir(path):\n",
    "    if filename.endswith('.jpg'):\n",
    "        imglist.append(filename)\n",
    "    elif filename.endswith('.txt'):\n",
    "        labellist.append(filename)\n",
    "    else:\n",
    "        pass\n",
    "\n",
    "files_to_remove = []\n",
    "perfix_list = [Path(filename).stem for filename in imglist]\n",
    "for filename in labellist:\n",
    "    perfix = Path(filename).stem\n",
    "    if perfix not in perfix_list:\n",
    "        files_to_remove.append(filename)\n",
    "\n",
    "# remove these files\n",
    "files_to_remove = [os.path.join(path, filename) for filename in files_to_remove]\n",
    "for src in files_to_remove:\n",
    "    os.remove(src)"
   ]
  },
  {
   "cell_type": "code",
   "execution_count": 95,
   "metadata": {},
   "outputs": [],
   "source": [
    "import os\n",
    "from pathlib import Path\n",
    "# the funciton wrapping the above program\n",
    "# args: path: the path of folder to be clean\n",
    "# return: None\n",
    "def rm_useless_labelfile(path):\n",
    "    # path = '/Users/jiahua/Downloads/moving_det_cv/collect2_data/prelabel/001'\n",
    "\n",
    "    imglist = []\n",
    "    labellist = []\n",
    "    for filename in os.listdir(path):\n",
    "        if filename.endswith('.jpg'):\n",
    "            imglist.append(filename)\n",
    "        elif filename.endswith('.txt'):\n",
    "            labellist.append(filename)\n",
    "        else:\n",
    "            pass\n",
    "\n",
    "    files_to_remove = []\n",
    "    perfix_list = [Path(filename).stem for filename in imglist]\n",
    "    for filename in labellist:\n",
    "        perfix = Path(filename).stem\n",
    "        if perfix not in perfix_list:\n",
    "            files_to_remove.append(filename)\n",
    "\n",
    "    # remove these files\n",
    "    files_to_remove = [os.path.join(path, filename) for filename in files_to_remove]\n",
    "    print(f'There are {len(files_to_remove)} label files to remove')\n",
    "    for src in files_to_remove:\n",
    "        os.remove(src)\n"
   ]
  },
  {
   "cell_type": "code",
   "execution_count": 103,
   "metadata": {},
   "outputs": [
    {
     "name": "stdout",
     "output_type": "stream",
     "text": [
      "There are 2 label files to remove\n",
      "There are 7 label files to remove\n",
      "There are 7 label files to remove\n",
      "There are 0 label files to remove\n",
      "There are 2 label files to remove\n",
      "There are 2 label files to remove\n",
      "There are 2 label files to remove\n",
      "There are 1 label files to remove\n",
      "There are 0 label files to remove\n"
     ]
    }
   ],
   "source": [
    "# 文件夹名 001～009\n",
    "for i in range(1, 10):\n",
    "    folder_path = f'/Users/jiahua/Downloads/moving_det_cv/collect2_data/prelabel/00{i}'\n",
    "    rm_useless_labelfile(folder_path)"
   ]
  },
  {
   "cell_type": "code",
   "execution_count": 92,
   "metadata": {},
   "outputs": [
    {
     "name": "stdout",
     "output_type": "stream",
     "text": [
      "['/Users/jiahua/Downloads/moving_det_cv/collect2_data/prelabel/IPS_2022-03-26.18.35.59.5110', '/Users/jiahua/Downloads/moving_det_cv/collect2_data/prelabel/IPS_2022-03-28.21.41.42.6360', '/Users/jiahua/Downloads/moving_det_cv/collect2_data/prelabel/IPS_2022-03-22.21.05.22.9010', '/Users/jiahua/Downloads/moving_det_cv/collect2_data/prelabel/IPS_2022-03-28.16.30.06.1530', '/Users/jiahua/Downloads/moving_det_cv/collect2_data/prelabel/IPS_2022-03-22.16.32.46.0509', '/Users/jiahua/Downloads/moving_det_cv/collect2_data/prelabel/IPS_2022-03-22.15.43.08.6150', '/Users/jiahua/Downloads/moving_det_cv/collect2_data/prelabel/IPS_2022-03-28.16.53.14.3140', '/Users/jiahua/Downloads/moving_det_cv/collect2_data/prelabel/IPS_2022-03-26.18.43.06.3540', '/Users/jiahua/Downloads/moving_det_cv/collect2_data/prelabel/.DS_Store', '/Users/jiahua/Downloads/moving_det_cv/collect2_data/prelabel/IPS_2022-03-26.20.55.36.6090', '/Users/jiahua/Downloads/moving_det_cv/collect2_data/prelabel/IPS_2022-03-22.15.34.29.2710', '/Users/jiahua/Downloads/moving_det_cv/collect2_data/prelabel/IPS_2022-03-28.20.44.43.0520', '/Users/jiahua/Downloads/moving_det_cv/collect2_data/prelabel/007', '/Users/jiahua/Downloads/moving_det_cv/collect2_data/prelabel/009', '/Users/jiahua/Downloads/moving_det_cv/collect2_data/prelabel/IPS_2022-03-26.18.52.06.3130', '/Users/jiahua/Downloads/moving_det_cv/collect2_data/prelabel/IPS_2022-03-26.16.07.45.6270', '/Users/jiahua/Downloads/moving_det_cv/collect2_data/prelabel/IPS_2022-03-28.22.02.11.5230', '/Users/jiahua/Downloads/moving_det_cv/collect2_data/prelabel/008', '/Users/jiahua/Downloads/moving_det_cv/collect2_data/prelabel/001', '/Users/jiahua/Downloads/moving_det_cv/collect2_data/prelabel/006', '/Users/jiahua/Downloads/moving_det_cv/collect2_data/prelabel/IPS_2022-03-26.16.32.23.6080', '/Users/jiahua/Downloads/moving_det_cv/collect2_data/prelabel/IPS_2022-03-28.21.20.37.7650', '/Users/jiahua/Downloads/moving_det_cv/collect2_data/prelabel/IPS_2022-03-22.16.14.57.4750', '/Users/jiahua/Downloads/moving_det_cv/collect2_data/prelabel/IPS_2022-03-28.15.13.50.6070', '/Users/jiahua/Downloads/moving_det_cv/collect2_data/prelabel/IPS_2022-03-22.15.53.27.2940', '/Users/jiahua/Downloads/moving_det_cv/collect2_data/prelabel/IPS_2022-03-28.21.00.24.5940', '/Users/jiahua/Downloads/moving_det_cv/collect2_data/prelabel/IPS_2022-03-22.20.42.44.4730', '/Users/jiahua/Downloads/moving_det_cv/collect2_data/prelabel/IPS_2022-03-28.15.32.51.5130', '/Users/jiahua/Downloads/moving_det_cv/collect2_data/prelabel/IPS_2022-03-22.20.53.45.1880', '/Users/jiahua/Downloads/moving_det_cv/collect2_data/prelabel/IPS_2022-03-22.20.28.42.0400', '/Users/jiahua/Downloads/moving_det_cv/collect2_data/prelabel/IPS_2022-03-26.16.21.14.3479', '/Users/jiahua/Downloads/moving_det_cv/collect2_data/prelabel/IPS_2022-03-26.22.18.22.4590', '/Users/jiahua/Downloads/moving_det_cv/collect2_data/prelabel/IPS_2022-03-26.21.49.49.1310', '/Users/jiahua/Downloads/moving_det_cv/collect2_data/prelabel/003', '/Users/jiahua/Downloads/moving_det_cv/collect2_data/prelabel/004', '/Users/jiahua/Downloads/moving_det_cv/collect2_data/prelabel/IPS_2022-03-26.17.24.00.8020', '/Users/jiahua/Downloads/moving_det_cv/collect2_data/prelabel/005', '/Users/jiahua/Downloads/moving_det_cv/collect2_data/prelabel/002', '/Users/jiahua/Downloads/moving_det_cv/collect2_data/prelabel/IPS_2022-03-28.16.07.04.4240', '/Users/jiahua/Downloads/moving_det_cv/collect2_data/prelabel/IPS_2022-03-26.17.42.37.6810', '/Users/jiahua/Downloads/moving_det_cv/collect2_data/prelabel/IPS_2022-03-26.21.11.07.9470']\n"
     ]
    }
   ],
   "source": [
    "# 其他文件夹\n",
    "root_path = '/Users/jiahua/Downloads/moving_det_cv/collect2_data/prelabel'\n",
    "folder_list = os.listdir(root_path)\n",
    "folder_list = [os.path.join(root_path, name) for name in folder_list]\n",
    "print(folder_list)\n"
   ]
  },
  {
   "cell_type": "code",
   "execution_count": 96,
   "metadata": {},
   "outputs": [
    {
     "name": "stdout",
     "output_type": "stream",
     "text": [
      "There are 36 label files to remove\n",
      "There are 84 label files to remove\n",
      "There are 64 label files to remove\n",
      "There are 89 label files to remove\n",
      "There are 102 label files to remove\n",
      "There are 62 label files to remove\n",
      "There are 111 label files to remove\n",
      "There are 41 label files to remove\n",
      "There are 63 label files to remove\n",
      "There are 27 label files to remove\n",
      "There are 70 label files to remove\n",
      "There are 85 label files to remove\n",
      "There are 49 label files to remove\n",
      "There are 65 label files to remove\n",
      "There are 40 label files to remove\n",
      "There are 84 label files to remove\n",
      "There are 101 label files to remove\n",
      "There are 71 label files to remove\n",
      "There are 59 label files to remove\n",
      "There are 79 label files to remove\n",
      "There are 51 label files to remove\n",
      "There are 82 label files to remove\n",
      "There are 53 label files to remove\n",
      "There are 56 label files to remove\n",
      "There are 62 label files to remove\n",
      "There are 73 label files to remove\n",
      "There are 71 label files to remove\n",
      "There are 167 label files to remove\n",
      "There are 97 label files to remove\n",
      "There are 73 label files to remove\n",
      "There are 77 label files to remove\n"
     ]
    }
   ],
   "source": [
    "# 其他文件夹名\n",
    "folder_list = [\n",
    "    '/Users/jiahua/Downloads/moving_det_cv/collect2_data/prelabel/IPS_2022-03-26.18.35.59.5110',\n",
    "    '/Users/jiahua/Downloads/moving_det_cv/collect2_data/prelabel/IPS_2022-03-28.21.41.42.6360',\n",
    "    '/Users/jiahua/Downloads/moving_det_cv/collect2_data/prelabel/IPS_2022-03-22.21.05.22.9010',\n",
    "    '/Users/jiahua/Downloads/moving_det_cv/collect2_data/prelabel/IPS_2022-03-28.16.30.06.1530',\n",
    "    '/Users/jiahua/Downloads/moving_det_cv/collect2_data/prelabel/IPS_2022-03-22.16.32.46.0509',\n",
    "    '/Users/jiahua/Downloads/moving_det_cv/collect2_data/prelabel/IPS_2022-03-22.15.43.08.6150',\n",
    "    '/Users/jiahua/Downloads/moving_det_cv/collect2_data/prelabel/IPS_2022-03-28.16.53.14.3140',\n",
    "    '/Users/jiahua/Downloads/moving_det_cv/collect2_data/prelabel/IPS_2022-03-26.18.43.06.3540',\n",
    "    '/Users/jiahua/Downloads/moving_det_cv/collect2_data/prelabel/IPS_2022-03-26.20.55.36.6090',\n",
    "    '/Users/jiahua/Downloads/moving_det_cv/collect2_data/prelabel/IPS_2022-03-22.15.34.29.2710',\n",
    "    '/Users/jiahua/Downloads/moving_det_cv/collect2_data/prelabel/IPS_2022-03-28.20.44.43.0520',\n",
    "    '/Users/jiahua/Downloads/moving_det_cv/collect2_data/prelabel/IPS_2022-03-26.18.52.06.3130',\n",
    "    '/Users/jiahua/Downloads/moving_det_cv/collect2_data/prelabel/IPS_2022-03-26.16.07.45.6270',\n",
    "    '/Users/jiahua/Downloads/moving_det_cv/collect2_data/prelabel/IPS_2022-03-28.22.02.11.5230',\n",
    "    '/Users/jiahua/Downloads/moving_det_cv/collect2_data/prelabel/IPS_2022-03-26.16.32.23.6080',\n",
    "    '/Users/jiahua/Downloads/moving_det_cv/collect2_data/prelabel/IPS_2022-03-28.21.20.37.7650',\n",
    "    '/Users/jiahua/Downloads/moving_det_cv/collect2_data/prelabel/IPS_2022-03-22.16.14.57.4750',\n",
    "    '/Users/jiahua/Downloads/moving_det_cv/collect2_data/prelabel/IPS_2022-03-28.15.13.50.6070',\n",
    "    '/Users/jiahua/Downloads/moving_det_cv/collect2_data/prelabel/IPS_2022-03-22.15.53.27.2940',\n",
    "    '/Users/jiahua/Downloads/moving_det_cv/collect2_data/prelabel/IPS_2022-03-28.21.00.24.5940',\n",
    "    '/Users/jiahua/Downloads/moving_det_cv/collect2_data/prelabel/IPS_2022-03-22.20.42.44.4730',\n",
    "    '/Users/jiahua/Downloads/moving_det_cv/collect2_data/prelabel/IPS_2022-03-28.15.32.51.5130',\n",
    "    '/Users/jiahua/Downloads/moving_det_cv/collect2_data/prelabel/IPS_2022-03-22.20.53.45.1880',\n",
    "    '/Users/jiahua/Downloads/moving_det_cv/collect2_data/prelabel/IPS_2022-03-22.20.28.42.0400',\n",
    "    '/Users/jiahua/Downloads/moving_det_cv/collect2_data/prelabel/IPS_2022-03-26.16.21.14.3479',\n",
    "    '/Users/jiahua/Downloads/moving_det_cv/collect2_data/prelabel/IPS_2022-03-26.22.18.22.4590',\n",
    "    '/Users/jiahua/Downloads/moving_det_cv/collect2_data/prelabel/IPS_2022-03-26.21.49.49.1310',\n",
    "    '/Users/jiahua/Downloads/moving_det_cv/collect2_data/prelabel/IPS_2022-03-26.17.24.00.8020',\n",
    "    '/Users/jiahua/Downloads/moving_det_cv/collect2_data/prelabel/IPS_2022-03-28.16.07.04.4240',\n",
    "    '/Users/jiahua/Downloads/moving_det_cv/collect2_data/prelabel/IPS_2022-03-26.17.42.37.6810',\n",
    "    '/Users/jiahua/Downloads/moving_det_cv/collect2_data/prelabel/IPS_2022-03-26.21.11.07.9470'\n",
    "]\n",
    "for folder_path in folder_list:\n",
    "    rm_useless_labelfile(folder_path)"
   ]
  },
  {
   "cell_type": "markdown",
   "metadata": {},
   "source": [
    "### 删除多余无用图片\n",
    "数据集中有大量空白背景图片，在预标注方案中不需要这些图，一个个删除太麻烦。\n",
    "\n",
    "实用相似度比较方法，筛选出空白背景的图片。"
   ]
  },
  {
   "cell_type": "code",
   "execution_count": 1,
   "metadata": {},
   "outputs": [],
   "source": [
    "import cv2\n",
    "import os\n",
    "from tqdm import tqdm \n",
    "STAY, MOVE = 0, 1\n",
    "def check_status(prev, cur, stay_ratio, diff_thresh=255 * 0.4):\n",
    "    # First check the diff value: [0~255] diff_thresh\n",
    "    # then check the diff percent over all frame: [0~1] stay_ratio\n",
    "\n",
    "    # Args\n",
    "    # prev: np.ndarray, the previous frame\n",
    "    # cur: np.ndarray, the current frame\n",
    "    # stay_ratio: float, 0~1, the ratio of moving pixel number over total\n",
    "    #   judge STAY if diff pixel ratio > stay_ratio\n",
    "    # diff_thresh: float, 0~255, the absolute threshold to split diff frames\n",
    "    diff = cv2.absdiff(cur, prev)\n",
    "    diff = cv2.threshold(diff, thresh=diff_thresh, maxval=255, type=cv2.THRESH_BINARY)[1]\n",
    "\n",
    "    # count percent of diff pixels in image\n",
    "    diff_percent = (diff == 255).sum() / (diff.shape[0] * diff.shape[1])\n",
    "    status = MOVE if diff_percent > stay_ratio else STAY\n",
    "\n",
    "    return status, diff, diff_percent\n"
   ]
  },
  {
   "cell_type": "code",
   "execution_count": 8,
   "metadata": {},
   "outputs": [
    {
     "name": "stdout",
     "output_type": "stream",
     "text": [
      "0 0.0012041859567901235\n"
     ]
    }
   ],
   "source": [
    "bg_path = '/Users/jiahua/Downloads/moving_det_cv/collect2_data/prelabel/IPS_2022-03-22.16.32.46.0509/1649008396.627292.jpg'\n",
    "# path = '/Users/jiahua/Downloads/moving_det_cv/collect2_data/prelabel/IPS_2022-03-22.16.32.46.0509/1649008397.092101.jpg'\n",
    "background = cv2.cvtColor(cv2.imread(bg_path), cv2.COLOR_BGR2GRAY)\n",
    "stay_ratio = 0.10\n",
    "\n",
    "\n",
    "tmp_img = '/Users/jiahua/Downloads/moving_det_cv/collect2_data/prelabel/IPS_2022-03-22.16.32.46.0509/1649008397.945185.jpg'\n",
    "frame = cv2.cvtColor(cv2.imread(tmp_img), cv2.COLOR_BGR2GRAY)\n",
    "if_move, diff, diff_percent = check_status(prev=background, cur=frame, stay_ratio=stay_ratio)\n",
    "print(if_move, diff_percent)"
   ]
  },
  {
   "cell_type": "code",
   "execution_count": 83,
   "metadata": {},
   "outputs": [
    {
     "name": "stderr",
     "output_type": "stream",
     "text": [
      "100%|██████████| 187/187 [00:03<00:00, 60.85it/s]\n",
      "18it [00:00, 20.30it/s]\n"
     ]
    },
    {
     "data": {
      "image/png": "[encoded data removed]",
      "text/plain": [
       "<Figure size 432x288 with 18 Axes>"
      ]
     },
     "metadata": {
      "needs_background": "light"
     },
     "output_type": "display_data"
    }
   ],
   "source": [
    "folder_to_check = '/Users/jiahua/Downloads/moving_det_cv/collect2_data/prelabel/IPS_2022-03-28.22.02.11.5230'\n",
    "\n",
    "# get all similar images to background in the folder\n",
    "bg_paths = [\n",
    "    '/Users/jiahua/Downloads/moving_det_cv/collect2_data/prelabel/IPS_2022-03-28.22.02.11.5230/1649007953.222882.jpg',\n",
    "    # '/Users/jiahua/Downloads/moving_det_cv/collect2_data/prelabel/IPS_2022-03-28.15.32.51.5130/1649008390.878613.jpg'\n",
    "]\n",
    "backgrounds = [cv2.cvtColor(cv2.imread(p), cv2.COLOR_BGR2GRAY) for p in bg_paths]\n",
    "\n",
    "stay_ratio = 0.03\n",
    "sim_imgs = []\n",
    "for name in tqdm(os.listdir(folder_to_check)):\n",
    "    if name.endswith('.jpg'):\n",
    "        img_path = os.path.join(folder_to_check, name)\n",
    "        frame = cv2.cvtColor(cv2.imread(img_path), cv2.COLOR_BGR2GRAY)\n",
    "        status = 1\n",
    "        for bg in backgrounds:\n",
    "            if_move, diff, diff_percent = check_status(prev=bg, cur=frame, stay_ratio=stay_ratio)\n",
    "            status = status and if_move\n",
    "        if not status:\n",
    "            sim_imgs.append(img_path)\n",
    "\n",
    "\n",
    "# view and check if delete these images\n",
    "from matplotlib import pyplot as plt\n",
    "plt.figure()\n",
    "for i, img_path in tqdm(enumerate(sim_imgs)):\n",
    "    plt.subplot(len(sim_imgs) // 5 + 1, 5, i + 1)\n",
    "    frame = cv2.cvtColor(cv2.imread(img_path), cv2.COLOR_BGR2RGB)\n",
    "    plt.imshow(frame)\n"
   ]
  },
  {
   "cell_type": "code",
   "execution_count": 84,
   "metadata": {},
   "outputs": [],
   "source": [
    "# confirm delete\n",
    "for path in sim_imgs:\n",
    "    os.remove(path)"
   ]
  },
  {
   "cell_type": "markdown",
   "metadata": {},
   "source": [
    "### 数据迭代清理\n",
    "将yolo-format数据集中的bounding box图片裁出来\n",
    "\n",
    "送入cnn中提取特征"
   ]
  },
  {
   "cell_type": "code",
   "execution_count": 1,
   "metadata": {},
   "outputs": [],
   "source": [
    "import os\n",
    "from PIL import Image\n",
    "from pathlib import Path\n",
    "from tqdm import tqdm"
   ]
  },
  {
   "cell_type": "code",
   "execution_count": 2,
   "metadata": {},
   "outputs": [
    {
     "name": "stdout",
     "output_type": "stream",
     "text": [
      "696\n"
     ]
    }
   ],
   "source": [
    "path = '/Users/jiahua/Downloads/moving_det_cv/collect2_data/prelabel/'\n",
    "imglist = []\n",
    "for root, folders, files in os.walk(path):\n",
    "    for f in files:\n",
    "        if f.endswith('.jpg'):\n",
    "            imglist.append(os.path.join(root, f))\n",
    "print(len(imglist))"
   ]
  },
  {
   "cell_type": "code",
   "execution_count": 100,
   "metadata": {},
   "outputs": [
    {
     "name": "stdout",
     "output_type": "stream",
     "text": [
      "/Users/jiahua/Downloads/moving_det_cv/collect2_data/prelabel/003/1649008656.1441011.txt not exists\n",
      "/Users/jiahua/Downloads/moving_det_cv/collect2_data/prelabel/003/1649008659.345849.txt not exists\n",
      "/Users/jiahua/Downloads/moving_det_cv/collect2_data/prelabel/003/1649008684.479831.txt not exists\n",
      "/Users/jiahua/Downloads/moving_det_cv/collect2_data/prelabel/003/1649008669.353631.txt not exists\n",
      "/Users/jiahua/Downloads/moving_det_cv/collect2_data/prelabel/003/1649008667.468439.txt not exists\n",
      "/Users/jiahua/Downloads/moving_det_cv/collect2_data/prelabel/003/1649008671.489113.txt not exists\n",
      "/Users/jiahua/Downloads/moving_det_cv/collect2_data/prelabel/003/1649008671.32763.txt not exists\n",
      "/Users/jiahua/Downloads/moving_det_cv/collect2_data/prelabel/003/1649008686.262667.txt not exists\n",
      "/Users/jiahua/Downloads/moving_det_cv/collect2_data/prelabel/003/1649008687.990689.txt not exists\n",
      "/Users/jiahua/Downloads/moving_det_cv/collect2_data/prelabel/003/1649008667.1082098.txt not exists\n",
      "/Users/jiahua/Downloads/moving_det_cv/collect2_data/prelabel/003/1649008676.222327.txt not exists\n",
      "/Users/jiahua/Downloads/moving_det_cv/collect2_data/prelabel/003/1649008681.8512042.txt not exists\n",
      "/Users/jiahua/Downloads/moving_det_cv/collect2_data/prelabel/003/1649008678.630938.txt not exists\n",
      "/Users/jiahua/Downloads/moving_det_cv/collect2_data/prelabel/003/1649008662.984865.txt not exists\n",
      "/Users/jiahua/Downloads/moving_det_cv/collect2_data/prelabel/003/1649008662.042497.txt not exists\n",
      "/Users/jiahua/Downloads/moving_det_cv/collect2_data/prelabel/002/1649008601.929991.txt not exists\n",
      "/Users/jiahua/Downloads/moving_det_cv/collect2_data/prelabel/002/1649008603.17291.txt not exists\n"
     ]
    }
   ],
   "source": [
    "# find corresponding label txt files\n",
    "not_exist_labels = []\n",
    "for path in imglist:\n",
    "    labelpath = path.replace('.jpg', '.txt')\n",
    "    if not os.path.exists(labelpath):\n",
    "        print(f'{labelpath} not exists')\n",
    "        not_exist_labels.append(labelpath)\n",
    "\n",
    "if len(not_exist_labels) == 0:\n",
    "    print('all files match')\n",
    "\n",
    "# the images without labels are all background images, all removed\n"
   ]
  },
  {
   "cell_type": "code",
   "execution_count": 3,
   "metadata": {},
   "outputs": [
    {
     "name": "stdout",
     "output_type": "stream",
     "text": [
      "all files match\n"
     ]
    }
   ],
   "source": [
    "# same as above\n",
    "not_exist_labels = []\n",
    "for path in imglist:\n",
    "    labelpath = path.replace('.jpg', '.txt')\n",
    "    if not os.path.exists(labelpath):\n",
    "        print(f'{labelpath} not exists')\n",
    "        not_exist_labels.append(labelpath)\n",
    "\n",
    "if len(not_exist_labels) == 0:\n",
    "    print('all files match')"
   ]
  },
  {
   "cell_type": "markdown",
   "metadata": {},
   "source": [
    "**半监督训练**\n",
    "\n",
    "准备两个文件夹，文件夹1放人工标注的数据，文件夹2放自动标注/待确认的数据\n",
    "1. 手动标注方法：将文件夹2中的图片，手动移动到文件夹1中对应类别的子文件夹\n",
    "2. 基于文件夹1，训练分类器\n",
    "3. 使用新分类器自动分类剩余图片，并分配到文件夹2\n",
    "4. 重复1步骤，直到确认无误\n",
    "\n",
    "建立两个表来存储相关数据，一个是对于整张图片，另一个是对于box中的区域的图片，values也是dict形式\n",
    "\n",
    "Table1\n",
    "|key|values|||\n",
    "|---|---|---|---|\n",
    "|img_id |img_path | label_path | boxes(box_ids) |\n",
    "|str|str|str|list|\n",
    "\n",
    "Table2\n",
    "|key|values||||\n",
    "|---|---|---|---|---|\n",
    "|box_id |img_id |xywh|class|status(-1,0,1)|\n",
    "|str|str|str|str|int|\n",
    "\n",
    "-1 是未标注，0 已标注，1 是已确认\n",
    "\n",
    "第2步时，table2中对应的status改为0,训练后改为1\n",
    "\n",
    "第3步时，将table2中标注status为-1的图片\n",
    "\n",
    "再准备第三个文件夹，存放已经确认的box用作备份，每次训练完成后将已经确认的box转移到该文件夹"
   ]
  },
  {
   "cell_type": "code",
   "execution_count": 4,
   "metadata": {},
   "outputs": [],
   "source": [
    "labelled_folder = '/Users/jiahua/Downloads/moving_det_cv/collect2_data/labelled'\n",
    "toConfirm_folder = '/Users/jiahua/Downloads/moving_det_cv/collect2_data/toConfirm'\n",
    "confirmed_folder = '/Users/jiahua/Downloads/moving_det_cv/collect2_data/confirmed'\n",
    "os.makedirs(labelled_folder, exist_ok=True)\n",
    "os.makedirs(toConfirm_folder, exist_ok=True)\n",
    "os.makedirs(confirmed_folder, exist_ok=True)"
   ]
  },
  {
   "cell_type": "code",
   "execution_count": 5,
   "metadata": {},
   "outputs": [],
   "source": [
    "# generate table1\n",
    "img_data = {}\n",
    "box_data = {}\n",
    "for path in imglist:\n",
    "    # path is '/Users/jiahua/Downloads/moving_det_cv/collect2_data/prelabel/IPS_2022-03-26.18.35.59.5110/1649008854.840437.jpg'\n",
    "    img_id = Path(path).stem\n",
    "    labelpath = path.replace('.jpg', '.txt')\n",
    "\n",
    "    with open(labelpath, 'r') as f:\n",
    "        boxes = f.readlines()\n",
    "    boxes = [line.strip().split(' ') for line in boxes]\n",
    "    box_ids = []\n",
    "    for i, box in enumerate(boxes):\n",
    "        box_id = f'{img_id}_{i}'\n",
    "        box_data[box_id] = {\n",
    "            'img_id': img_id,\n",
    "            'xywh': box[1:],\n",
    "            'class': box[0],\n",
    "            'status': -1\n",
    "        }\n",
    "        box_ids.append(box_id)\n",
    "    \n",
    "    img_data[img_id] = {\n",
    "        'img_path': path,\n",
    "        'label_path': labelpath,\n",
    "        'boxes': box_ids\n",
    "    }\n",
    "    "
   ]
  },
  {
   "cell_type": "code",
   "execution_count": 34,
   "metadata": {},
   "outputs": [
    {
     "data": {
      "text/plain": [
       "[('1649008854.840437_0',\n",
       "  {'img_id': '1649008854.840437',\n",
       "   'xywh': ['0.446094', '0.641667', '0.320312', '0.527778'],\n",
       "   'class': '0',\n",
       "   'status': -1}),\n",
       " ('1649008854.840437_1',\n",
       "  {'img_id': '1649008854.840437',\n",
       "   'xywh': ['0.336719', '0.219444', '0.298438', '0.427778'],\n",
       "   'class': '0',\n",
       "   'status': -1}),\n",
       " ('1649008854.840437_2',\n",
       "  {'img_id': '1649008854.840437',\n",
       "   'xywh': ['0.714583', '0.230556', '0.298958', '0.440741'],\n",
       "   'class': '0',\n",
       "   'status': -1})]"
      ]
     },
     "execution_count": 34,
     "metadata": {},
     "output_type": "execute_result"
    }
   ],
   "source": [
    "list(box_data.items())[:3]"
   ]
  },
  {
   "cell_type": "code",
   "execution_count": 35,
   "metadata": {},
   "outputs": [
    {
     "data": {
      "text/plain": [
       "[('1649008854.840437',\n",
       "  {'img_path': '/Users/jiahua/Downloads/moving_det_cv/collect2_data/prelabel/IPS_2022-03-26.18.35.59.5110/1649008854.840437.jpg',\n",
       "   'label_path': '/Users/jiahua/Downloads/moving_det_cv/collect2_data/prelabel/IPS_2022-03-26.18.35.59.5110/1649008854.840437.txt',\n",
       "   'boxes': ['1649008854.840437_0',\n",
       "    '1649008854.840437_1',\n",
       "    '1649008854.840437_2',\n",
       "    '1649008854.840437_3']}),\n",
       " ('1649008840.054993',\n",
       "  {'img_path': '/Users/jiahua/Downloads/moving_det_cv/collect2_data/prelabel/IPS_2022-03-26.18.35.59.5110/1649008840.054993.jpg',\n",
       "   'label_path': '/Users/jiahua/Downloads/moving_det_cv/collect2_data/prelabel/IPS_2022-03-26.18.35.59.5110/1649008840.054993.txt',\n",
       "   'boxes': ['1649008840.054993_0',\n",
       "    '1649008840.054993_1',\n",
       "    '1649008840.054993_2',\n",
       "    '1649008840.054993_3']}),\n",
       " ('1649008849.070807',\n",
       "  {'img_path': '/Users/jiahua/Downloads/moving_det_cv/collect2_data/prelabel/IPS_2022-03-26.18.35.59.5110/1649008849.070807.jpg',\n",
       "   'label_path': '/Users/jiahua/Downloads/moving_det_cv/collect2_data/prelabel/IPS_2022-03-26.18.35.59.5110/1649008849.070807.txt',\n",
       "   'boxes': ['1649008849.070807_0',\n",
       "    '1649008849.070807_1',\n",
       "    '1649008849.070807_2',\n",
       "    '1649008849.070807_3']})]"
      ]
     },
     "execution_count": 35,
     "metadata": {},
     "output_type": "execute_result"
    }
   ],
   "source": [
    "list(img_data.items())[:3]\n"
   ]
  },
  {
   "cell_type": "code",
   "execution_count": 6,
   "metadata": {},
   "outputs": [],
   "source": [
    "def xywh2xyxy(xywh, width, height):\n",
    "    x,y,w,h = xywh\n",
    "    x1 = x-w/2\n",
    "    x2 = x+w/2\n",
    "    y1 = y-h/2\n",
    "    y2 = y+h/2\n",
    "    x1 *= width\n",
    "    x2 *= width\n",
    "    y1 *= height\n",
    "    y2 *= height\n",
    "    return x1, y1, x2, y2"
   ]
  },
  {
   "cell_type": "code",
   "execution_count": 158,
   "metadata": {},
   "outputs": [],
   "source": [
    "# there are some boxes been labelled before\n",
    "# change the status and take them out to folder 1\n",
    "labelled = {}\n",
    "for k, v in box_data.items():\n",
    "    if v['class'] != '0':\n",
    "        v['status'] = 0\n",
    "        labelled[k] = v\n"
   ]
  },
  {
   "cell_type": "code",
   "execution_count": 189,
   "metadata": {},
   "outputs": [],
   "source": [
    "# save all labelled boxes into folder 1\n",
    "for k, v in tqdm(box_data.items()):\n",
    "    if v['status']:\n",
    "        os.makedirs(os.path.join(labelled_folder, v['class']), exist_ok=True)\n",
    "        img_path = img_data[v['img_id']]['img_path']\n",
    "        img = Image.open(img_path)\n",
    "        width, height = img.size\n",
    "        xywh = [float(i) for i in v['xywh']]\n",
    "        xyxy = xywh2xyxy(xywh, width, height)\n",
    "        img = img.crop(xyxy)\n",
    "        # use key name(box_id) as filename\n",
    "        save_path = os.path.join(labelled_folder, v['class'], f'{k}.jpg')\n",
    "        img.save(save_path)\n",
    "\n"
   ]
  },
  {
   "cell_type": "code",
   "execution_count": 89,
   "metadata": {},
   "outputs": [
    {
     "name": "stdout",
     "output_type": "stream",
     "text": [
      "0/2551 boxes unlabelled\n",
      "0/2551 boxes labelled\n",
      "2551/2551 boxes confirmed\n"
     ]
    }
   ],
   "source": [
    "# analysis label status\n",
    "counter = 0\n",
    "for k, v in box_data.items():\n",
    "    if v['status']==-1: counter +=1\n",
    "print(f'{counter}/{len(box_data)} boxes unlabelled')\n",
    "counter = 0\n",
    "for k, v in box_data.items():\n",
    "    if v['status']==0: counter +=1\n",
    "print(f'{counter}/{len(box_data)} boxes labelled')\n",
    "counter = 0\n",
    "for k, v in box_data.items():\n",
    "    if v['status']==1: counter +=1\n",
    "print(f'{counter}/{len(box_data)} boxes confirmed')"
   ]
  },
  {
   "cell_type": "code",
   "execution_count": 81,
   "metadata": {},
   "outputs": [],
   "source": [
    "# load all images from labelled folder\n",
    "label_result = [] # List[[box_id, class]]\n",
    "for root, folders, files in os.walk(labelled_folder):\n",
    "    for name in files:\n",
    "        if name.endswith('.jpg'):\n",
    "            label_result.append([\n",
    "                Path(name).stem,\n",
    "                root.split('/')[-1],\n",
    "                # os.path.join(root, name)\n",
    "            ])\n",
    "\n",
    "for box_id, class_name in label_result:\n",
    "    box_data[box_id]['class'] = class_name\n",
    "    box_data[box_id]['status'] = 0\n"
   ]
  },
  {
   "cell_type": "markdown",
   "metadata": {},
   "source": [
    "**加载特征提取和分类模型**\n",
    "\n",
    "特征提取使用mobilenetv3，分类器为k-centroid"
   ]
  },
  {
   "cell_type": "code",
   "execution_count": 19,
   "metadata": {},
   "outputs": [],
   "source": [
    "from clf_model import nearCenter\n",
    "from feat_extractor import mobnet_openvino\n",
    "import cv2\n",
    "import numpy as np\n",
    "extractor = mobnet_openvino(\n",
    "    bin_path='/Users/jiahua/Downloads/moving_det_cv/distil_mobv3_run1_best.bin',\n",
    "    xml_path='/Users/jiahua/Downloads/moving_det_cv/distil_mobv3_run1_best.xml'\n",
    ")\n",
    "classifier = nearCenter()"
   ]
  },
  {
   "cell_type": "code",
   "execution_count": 83,
   "metadata": {},
   "outputs": [
    {
     "name": "stderr",
     "output_type": "stream",
     "text": [
      "100%|██████████| 2551/2551 [00:26<00:00, 97.36it/s]   \n"
     ]
    }
   ],
   "source": [
    "# extract dishes features\n",
    "feats = []\n",
    "labels = []\n",
    "for k, v in tqdm(box_data.items()):\n",
    "    # if v['status']==1 or v['status']==0:\n",
    "    if v['status']==0:\n",
    "        # os.makedirs(os.path.join(labelled_folder, v['class']), exist_ok=True)\n",
    "        # load origin image\n",
    "        img_path = img_data[v['img_id']]['img_path']\n",
    "        img = Image.open(img_path)\n",
    "        width, height = img.size\n",
    "        xywh = [float(i) for i in v['xywh']]\n",
    "        xyxy = xywh2xyxy(xywh, width, height)\n",
    "        # crop dish in box from origin image\n",
    "        img = img.crop(xyxy)\n",
    "        # break\n",
    "        feat = extractor.encode([img])\n",
    "        feats.extend(feat)\n",
    "        labels.extend([v['class']])\n",
    "        "
   ]
  },
  {
   "cell_type": "code",
   "execution_count": 84,
   "metadata": {},
   "outputs": [],
   "source": [
    "# train classifier\n",
    "classifier.train_increment(feats, labels)\n",
    "# classifier.train_all(feats, labels)\n"
   ]
  },
  {
   "cell_type": "code",
   "execution_count": 86,
   "metadata": {},
   "outputs": [
    {
     "name": "stderr",
     "output_type": "stream",
     "text": [
      "100%|██████████| 2551/2551 [00:25<00:00, 99.68it/s]   \n"
     ]
    }
   ],
   "source": [
    "# mark all trained boxes' status as confirmed(1)\n",
    "# move them to confirm folder\n",
    "for k, v in tqdm(box_data.items()):\n",
    "    if v['status'] == 0:\n",
    "        os.makedirs(os.path.join(confirmed_folder, v['class']), exist_ok=True)\n",
    "        img_path = img_data[v['img_id']]['img_path']\n",
    "        img = Image.open(img_path)\n",
    "        width, height = img.size\n",
    "        xywh = [float(i) for i in v['xywh']]\n",
    "        xyxy = xywh2xyxy(xywh, width, height)\n",
    "        img = img.crop(xyxy)\n",
    "        # use key name(box_id) as filename\n",
    "        save_path = os.path.join(confirmed_folder, v['class'], f'{k}.jpg')\n",
    "        img.save(save_path)\n",
    "\n",
    "        v['status'] = 1\n",
    "\n"
   ]
  },
  {
   "cell_type": "code",
   "execution_count": 87,
   "metadata": {},
   "outputs": [],
   "source": [
    "# remove images in labelled folder\n",
    "from glob import glob\n",
    "for file in glob(os.path.join(labelled_folder, '*','*')):\n",
    "    os.remove(file)"
   ]
  },
  {
   "cell_type": "code",
   "execution_count": 88,
   "metadata": {},
   "outputs": [
    {
     "name": "stderr",
     "output_type": "stream",
     "text": [
      "100%|██████████| 2551/2551 [00:00<00:00, 1044175.81it/s]\n"
     ]
    }
   ],
   "source": [
    "# use trained classifier auto lable the left images\n",
    "# box by box\n",
    "\n",
    "counter = 0  # manually label images by batch\n",
    "max_count = 1000\n",
    "for k, v in tqdm(box_data.items()):\n",
    "    if counter >= max_count:\n",
    "        print('reach max count')\n",
    "        break\n",
    "    if v['status'] == -1:\n",
    "        img_path = img_data[v['img_id']]['img_path']\n",
    "        img = Image.open(img_path)\n",
    "        width, height = img.size\n",
    "        xywh = [float(i) for i in v['xywh']]\n",
    "        xyxy = xywh2xyxy(xywh, width, height)\n",
    "        # crop dish in box from origin image\n",
    "        img = img.crop(xyxy)\n",
    "\n",
    "        # use model to predict\n",
    "        feat = extractor.encode([img])\n",
    "        label = classifier.predict(feat)\n",
    "\n",
    "        # save to labelled folder\n",
    "        os.makedirs(os.path.join(labelled_folder, label[0]), exist_ok=True)\n",
    "        save_path = os.path.join(labelled_folder, label[0], f'{k}.jpg')\n",
    "        img.save(save_path)\n",
    "        counter += 1\n",
    "\n"
   ]
  },
  {
   "cell_type": "markdown",
   "metadata": {},
   "source": [
    "### 将清理后的结果保存，覆盖原来的标注文件"
   ]
  },
  {
   "cell_type": "code",
   "execution_count": 98,
   "metadata": {},
   "outputs": [
    {
     "name": "stdout",
     "output_type": "stream",
     "text": [
      "[('1649008854.840437_0', {'img_id': '1649008854.840437', 'xywh': ['0.446094', '0.641667', '0.320312', '0.527778'], 'class': '炒花菜', 'status': 1}), ('1649008854.840437_1', {'img_id': '1649008854.840437', 'xywh': ['0.336719', '0.219444', '0.298438', '0.427778'], 'class': '土豆片', 'status': 1})]\n",
      "[('1649008854.840437', {'img_path': '/Users/jiahua/Downloads/moving_det_cv/collect2_data/prelabel/IPS_2022-03-26.18.35.59.5110/1649008854.840437.jpg', 'label_path': '/Users/jiahua/Downloads/moving_det_cv/collect2_data/prelabel/IPS_2022-03-26.18.35.59.5110/1649008854.840437.txt', 'boxes': ['1649008854.840437_0', '1649008854.840437_1', '1649008854.840437_2', '1649008854.840437_3']}), ('1649008840.054993', {'img_path': '/Users/jiahua/Downloads/moving_det_cv/collect2_data/prelabel/IPS_2022-03-26.18.35.59.5110/1649008840.054993.jpg', 'label_path': '/Users/jiahua/Downloads/moving_det_cv/collect2_data/prelabel/IPS_2022-03-26.18.35.59.5110/1649008840.054993.txt', 'boxes': ['1649008840.054993_0', '1649008840.054993_1', '1649008840.054993_2', '1649008840.054993_3']})]\n"
     ]
    }
   ],
   "source": [
    "print(list(box_data.items())[:2])\n",
    "print(list(img_data.items())[:2])"
   ]
  },
  {
   "cell_type": "code",
   "execution_count": 115,
   "metadata": {},
   "outputs": [],
   "source": [
    "name_id_map = [\n",
    "    \"咖喱牛肉\",\n",
    "    \"番茄牛肉\",\n",
    "    \"地三鲜\",\n",
    "    \"土豆片\",\n",
    "    \"香菇青菜\",\n",
    "    \"炒花菜\",\n",
    "    \"莴笋炒蛋\",\n",
    "    \"土豆丝\",\n",
    "    \"干煸豆角\",\n",
    "    \"韭菜鸡蛋\",\n",
    "    \"青椒火腿炒鸡蛋\",\n",
    "    \"其他\"\n",
    "]\n",
    "name_id_map = {name:str(i) for i, name in enumerate(name_id_map)}"
   ]
  },
  {
   "cell_type": "code",
   "execution_count": 117,
   "metadata": {},
   "outputs": [
    {
     "name": "stderr",
     "output_type": "stream",
     "text": [
      "100%|██████████| 696/696 [00:00<00:00, 2768.45it/s]\n"
     ]
    }
   ],
   "source": [
    "for k,v in tqdm(img_data.items()):\n",
    "    # convert labelled box data to txt format\n",
    "    boxes_txt = ''\n",
    "    for box_id in v['boxes']:\n",
    "        box = box_data[box_id]\n",
    "        cls_id = name_id_map[box['class']]\n",
    "        boxes_txt += ' '.join([cls_id] + box['xywh']) + '\\n'\n",
    "\n",
    "    with open(v['label_path'], 'w') as f:\n",
    "        f.write(boxes_txt)\n"
   ]
  },
  {
   "cell_type": "code",
   "execution_count": 150,
   "metadata": {},
   "outputs": [
    {
     "name": "stderr",
     "output_type": "stream",
     "text": [
      "42it [00:00, 80.92it/s] \n"
     ]
    }
   ],
   "source": [
    "# 删除\"其他\"类别（11）的标签\n",
    "import os\n",
    "from tqdm import tqdm\n",
    "folder_path = '/Users/jiahua/Downloads/moving_det_cv/collect2_data/prelabel'\n",
    "for root, folders, files in tqdm(os.walk(folder_path)):\n",
    "    for f in files:\n",
    "        if f.endswith('.txt'):\n",
    "            path = os.path.join(root, f)\n",
    "            # read file content and delete the line start with ‘11’\n",
    "            with open(path,'r') as f:\n",
    "                content = f.readlines()\n",
    "            new_content = [line for line in content if not line.startswith('11') ]\n",
    "            with open(path,'w') as f:\n",
    "                f.writelines(new_content)\n"
   ]
  },
  {
   "cell_type": "markdown",
   "metadata": {},
   "source": [
    "### 使用训练好的模型，对所有图片自动标注"
   ]
  },
  {
   "cell_type": "code",
   "execution_count": 151,
   "metadata": {},
   "outputs": [
    {
     "name": "stdout",
     "output_type": "stream",
     "text": [
      "detection model initialization finished\n",
      "the cache /Users/jiahua/Downloads/moving_det_cv/clf_model_cache_new.pkl has been loaded to classify model\n"
     ]
    },
    {
     "name": "stderr",
     "output_type": "stream",
     "text": [
      "/Users/jiahua/miniconda3/envs/nus/lib/python3.7/site-packages/torchvision/transforms/transforms.py:281: UserWarning: Argument interpolation should be of type InterpolationMode instead of int. Please, use InterpolationMode enum.\n",
      "  \"Argument interpolation should be of type InterpolationMode instead of int. \"\n"
     ]
    }
   ],
   "source": [
    "from clf_model import nearNeighbor\n",
    "from feat_extractor import mobnet_openvino\n",
    "extractor = mobnet_openvino(\n",
    "    bin_path='/Users/jiahua/Downloads/moving_det_cv/distil_mobv3_run1_best.bin',\n",
    "    xml_path='/Users/jiahua/Downloads/moving_det_cv/distil_mobv3_run1_best.xml'\n",
    ")\n",
    "classifier = nearNeighbor(cache_path='/Users/jiahua/Downloads/moving_det_cv/clf_model_cache_new.pkl')"
   ]
  },
  {
   "cell_type": "code",
   "execution_count": 152,
   "metadata": {},
   "outputs": [],
   "source": [
    "from pathlib import Path\n",
    "from tqdm import tqdm\n",
    "folder_path = '/Users/jiahua/Downloads/moving_det_cv/collect2_data/only_box'\n",
    "toConfirm_path = '/Users/jiahua/Downloads/moving_det_cv/collect2_data/labelled'"
   ]
  },
  {
   "cell_type": "code",
   "execution_count": 160,
   "metadata": {},
   "outputs": [
    {
     "name": "stdout",
     "output_type": "stream",
     "text": [
      "3124\n"
     ]
    }
   ],
   "source": [
    "imglist = []\n",
    "labellist = []\n",
    "for root, folders, files in os.walk(folder_path):\n",
    "    for f in files:\n",
    "        if f.endswith('.txt'):\n",
    "            labellist.append(os.path.join(root, f))\n",
    "\n",
    "new_labellist = []\n",
    "for path in labellist:\n",
    "    img_path = path.replace('.txt','.jpg')\n",
    "    if os.path.exists(img_path):\n",
    "        new_labellist.append(path)\n",
    "        imglist.append(img_path)\n",
    "\n",
    "labellist = new_labellist\n",
    "print(len(imglist))"
   ]
  },
  {
   "cell_type": "code",
   "execution_count": 161,
   "metadata": {},
   "outputs": [],
   "source": [
    "img_data = {}\n",
    "box_data = {}\n",
    "for path in imglist:\n",
    "    # path is '/Users/jiahua/Downloads/moving_det_cv/collect2_data/prelabel/IPS_2022-03-26.18.35.59.5110/1649008854.840437.jpg'\n",
    "    img_id = Path(path).stem\n",
    "    labelpath = path.replace('.jpg', '.txt')\n",
    "\n",
    "    with open(labelpath, 'r') as f:\n",
    "        boxes = f.readlines()\n",
    "    boxes = [line.strip().split(' ') for line in boxes]\n",
    "    box_ids = []\n",
    "    for i, box in enumerate(boxes):\n",
    "        box_id = f'{img_id}_{i}'\n",
    "        box_data[box_id] = {\n",
    "            'img_id': img_id,\n",
    "            'xywh': box[1:],\n",
    "            'class': box[0],\n",
    "            'status': -1\n",
    "        }\n",
    "        box_ids.append(box_id)\n",
    "    \n",
    "    img_data[img_id] = {\n",
    "        'img_path': path,\n",
    "        'label_path': labelpath,\n",
    "        'boxes': box_ids\n",
    "    }"
   ]
  },
  {
   "cell_type": "code",
   "execution_count": 162,
   "metadata": {},
   "outputs": [
    {
     "name": "stderr",
     "output_type": "stream",
     "text": [
      "100%|██████████| 6882/6882 [07:43<00:00, 14.83it/s]\n"
     ]
    }
   ],
   "source": [
    "# use trained classifier auto lable the left images\n",
    "# box by box\n",
    "\n",
    "# counter = 0  # manually label images by batch\n",
    "# max_count = 1000\n",
    "for k, v in tqdm(box_data.items()):\n",
    "    # if counter >= max_count:\n",
    "    #     print('reach max count')\n",
    "    #     break\n",
    "    # if v['status'] == -1:\n",
    "    img_path = img_data[v['img_id']]['img_path']\n",
    "    img = Image.open(img_path)\n",
    "    width, height = img.size\n",
    "    xywh = [float(i) for i in v['xywh']]\n",
    "    xyxy = xywh2xyxy(xywh, width, height)\n",
    "    # crop dish in box from origin image\n",
    "    img = img.crop(xyxy)\n",
    "\n",
    "    # use model to predict\n",
    "    feat = extractor.encode([img])\n",
    "    label = classifier.predict(feat)\n",
    "\n",
    "    # save to labelled folder\n",
    "    os.makedirs(os.path.join(toConfirm_path, label[0]), exist_ok=True)\n",
    "    save_path = os.path.join(toConfirm_path, label[0], f'{k}.jpg')\n",
    "    img.save(save_path)\n",
    "    # counter += 1\n",
    "\n"
   ]
  },
  {
   "cell_type": "code",
   "execution_count": null,
   "metadata": {},
   "outputs": [],
   "source": [
    "name_id_map = [\n",
    "    \"咖喱牛肉\",\n",
    "    \"番茄牛肉\",\n",
    "    \"地三鲜\",\n",
    "    \"土豆片\",\n",
    "    \"香菇青菜\",\n",
    "    \"炒花菜\",\n",
    "    \"莴笋炒蛋\",\n",
    "    \"土豆丝\",\n",
    "    \"干煸豆角\",\n",
    "    \"韭菜鸡蛋\",\n",
    "    \"青椒火腿炒鸡蛋\",\n",
    "    \"其他\"\n",
    "]\n",
    "name_id_map = {name:str(i) for i, name in enumerate(name_id_map)}"
   ]
  },
  {
   "cell_type": "code",
   "execution_count": 164,
   "metadata": {},
   "outputs": [],
   "source": [
    "# load all images from labelled folder\n",
    "label_result = [] # List[[box_id, class]]\n",
    "for root, folders, files in os.walk(toConfirm_path):\n",
    "    for name in files:\n",
    "        if name.endswith('.jpg'):\n",
    "            label_result.append([\n",
    "                Path(name).stem,\n",
    "                root.split('/')[-1],\n",
    "                # os.path.join(root, name)\n",
    "            ])\n",
    "\n",
    "for box_id, class_name in label_result:\n",
    "    box_data[box_id]['class'] = class_name\n",
    "    box_data[box_id]['status'] = 0"
   ]
  },
  {
   "cell_type": "code",
   "execution_count": 168,
   "metadata": {},
   "outputs": [
    {
     "name": "stderr",
     "output_type": "stream",
     "text": [
      "100%|██████████| 3124/3124 [00:01<00:00, 2211.42it/s]\n"
     ]
    }
   ],
   "source": [
    "for k,v in tqdm(img_data.items()):\n",
    "    # convert labelled box data to txt format\n",
    "    boxes_txt = []\n",
    "    for box_id in v['boxes']:\n",
    "        box = box_data[box_id]\n",
    "        cls_id = name_id_map[box['class']]\n",
    "        if cls_id != '11': # 忽略\"其他\"类别（11）的标签\n",
    "            boxes_txt.append(' '.join([cls_id] + box['xywh']) + '\\n')\n",
    "\n",
    "    with open(v['label_path'], 'w') as f:\n",
    "        f.writelines(boxes_txt)"
   ]
  },
  {
   "cell_type": "code",
   "execution_count": 171,
   "metadata": {},
   "outputs": [
    {
     "data": {
      "text/plain": [
       "(6882, 3124)"
      ]
     },
     "execution_count": 171,
     "metadata": {},
     "output_type": "execute_result"
    }
   ],
   "source": [
    "len(box_data),len(img_data)"
   ]
  },
  {
   "cell_type": "code",
   "execution_count": null,
   "metadata": {},
   "outputs": [],
   "source": []
  }
 ],
 "metadata": {
  "interpreter": {
   "hash": "19743fd124faad761ac6f9378cf293273ba802bbddf6585ecb1f8cb0f4c464ae"
  },
  "kernelspec": {
   "display_name": "Python 3.7.7 ('nus')",
   "language": "python",
   "name": "python3"
  },
  "language_info": {
   "codemirror_mode": {
    "name": "ipython",
    "version": 3
   },
   "file_extension": ".py",
   "mimetype": "text/x-python",
   "name": "python",
   "nbconvert_exporter": "python",
   "pygments_lexer": "ipython3",
   "version": "3.7.7"
  },
  "orig_nbformat": 4
 },
 "nbformat": 4,
 "nbformat_minor": 2
}
